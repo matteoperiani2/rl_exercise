{
 "cells": [
  {
   "cell_type": "code",
   "execution_count": 1,
   "metadata": {},
   "outputs": [],
   "source": [
    "import warnings, random, gym\n",
    "import numpy as np\n",
    "from collections import deque\n",
    "import matplotlib.pyplot as plt\n",
    "from IPython.display import clear_output\n",
    "\n",
    "import tensorflow as tf\n",
    "from tensorflow import keras\n",
    "from keras import layers\n",
    "\n",
    "MAX_EPISODE = 100\n",
    "T = 64\n",
    "GAMMA = 0.99\n",
    "TAU=0.005\n",
    "EPS = 1e-8\n",
    "REPLAY_BUFFER_MAX_LEN = 50000\n",
    "BATCH_SIZE = 64\n",
    "UPDATE_TARGET_NETWORK = 500\n",
    "\n",
    "warnings.filterwarnings(\"ignore\", category=DeprecationWarning) "
   ]
  },
  {
   "cell_type": "code",
   "execution_count": 3,
   "metadata": {},
   "outputs": [],
   "source": [
    "env = gym.make(\"LunarLander-v2\")\n",
    "states_shape = env.observation_space.shape[0]\n",
    "n_actions = env.action_space.n"
   ]
  },
  {
   "cell_type": "code",
   "execution_count": 6,
   "metadata": {},
   "outputs": [],
   "source": [
    "def get_actor_critic_model(input_shape, actor_out_shape, hidden_size):\n",
    "    inputs = layers.Input(shape=input_shape)\n",
    "    x = layers.Dense(hidden_size, activation='relu')(inputs)\n",
    "    x = layers.Dense(hidden_size, activation='relu')(x)\n",
    "    actor = layers.Dense(actor_out_shape, activation='softmax', name='actor')(x)\n",
    "    critic = layers.Dense(1, activation='linear', name='critic')(x)\n",
    "\n",
    "    return keras.Model(inputs=inputs, outputs=[actor,critic])"
   ]
  },
  {
   "cell_type": "code",
   "execution_count": 8,
   "metadata": {},
   "outputs": [
    {
     "name": "stdout",
     "output_type": "stream",
     "text": [
      "Model: \"model_3\"\n",
      "__________________________________________________________________________________________________\n",
      " Layer (type)                Output Shape                 Param #   Connected to                  \n",
      "==================================================================================================\n",
      " input_4 (InputLayer)        [(None, 8)]                  0         []                            \n",
      "                                                                                                  \n",
      " dense_4 (Dense)             (None, 256)                  2304      ['input_4[0][0]']             \n",
      "                                                                                                  \n",
      " dense_5 (Dense)             (None, 256)                  65792     ['dense_4[0][0]']             \n",
      "                                                                                                  \n",
      " actor (Dense)               (None, 4)                    1028      ['dense_5[0][0]']             \n",
      "                                                                                                  \n",
      " critic (Dense)              (None, 1)                    257       ['dense_5[0][0]']             \n",
      "                                                                                                  \n",
      "==================================================================================================\n",
      "Total params: 69381 (271.02 KB)\n",
      "Trainable params: 69381 (271.02 KB)\n",
      "Non-trainable params: 0 (0.00 Byte)\n",
      "__________________________________________________________________________________________________\n"
     ]
    }
   ],
   "source": [
    "actor_critic = get_actor_critic_model(input_shape=states_shape,\n",
    "                                      actor_out_shape=n_actions,\n",
    "                                      hidden_size=256)\n",
    "actor_critic.summary()"
   ]
  },
  {
   "cell_type": "code",
   "execution_count": null,
   "metadata": {},
   "outputs": [],
   "source": [
    "class MemorySteps:\n",
    "    def __init__(self):\n",
    "        super(MemorySteps, ).__init__()\n",
    "        \n",
    "        self.action_probs = []\n",
    "        self.critic_values = []\n",
    "        self.rewards = []\n",
    "    \n",
    "    def store(self, state, action, reward, next_state, done):\n",
    "        experience = (state, action, np.array([reward]), next_state, done)\n",
    "        self.buffer.append(experience)\n",
    "\n",
    "    def sample(self, batch_size):\n",
    "        batch_samples = random.sample(self.buffer, batch_size)\n",
    "        \n",
    "        states = [sample[0] for sample in batch_samples]\n",
    "        actions = [sample[1] for sample in batch_samples]\n",
    "        rewards = [sample[2] for sample in batch_samples]\n",
    "        next_states = [sample[3] for sample in batch_samples]\n",
    "        dones = [sample[4] for sample in batch_samples]\n",
    "        \n",
    "        return states, actions, rewards, next_states, dones\n",
    "\n",
    "    def __len__(self):\n",
    "        return len(self.buffer)"
   ]
  },
  {
   "cell_type": "code",
   "execution_count": null,
   "metadata": {},
   "outputs": [],
   "source": [
    "optimizer = keras.optimizers.legacy.Adam(learning_rate=0.001)\n",
    "critic_loss_fn = keras.losses.Huber()\n",
    "\n",
    "running_reward = 0\n",
    "memory = MemorySteps()\n",
    "\n",
    "for episode in range(1, MAX_EPISODE+1):\n",
    "    state, _ = env.reset()\n",
    "    episode_reward = 0\n",
    "    \n",
    "    # Collect trajectory\n",
    "    for t in range(1, T+1):\n",
    "        state = tf.convert_to_tensor(state)\n",
    "        state = tf.expand_dims(state, 0)\n",
    "        \n",
    "        actions_prob, critic_val = actor_critic(state)\n",
    "        \n",
    "       \n",
    "   \n",
    "    \n",
    "    if episode % 100 == 0:\n",
    "        print(f\"Reward at {episode} episode: {running_reward:.2f}\")\n",
    "    if running_reward > 200: #termination condition\n",
    "        print(f\"Solved at {episode} episode: score={running_reward}\")\n",
    "        break\n",
    "    if episode % 1000 == 0:\n",
    "        clear_output()\n",
    "\n",
    "actor_critic.save_weights(\"checkpoints/ppo_lunarlander.h5\")"
   ]
  }
 ],
 "metadata": {
  "kernelspec": {
   "display_name": "rl",
   "language": "python",
   "name": "python3"
  },
  "language_info": {
   "codemirror_mode": {
    "name": "ipython",
    "version": 3
   },
   "file_extension": ".py",
   "mimetype": "text/x-python",
   "name": "python",
   "nbconvert_exporter": "python",
   "pygments_lexer": "ipython3",
   "version": "3.8.18"
  }
 },
 "nbformat": 4,
 "nbformat_minor": 2
}
